Importing necessary libraries
import numpy as np
import pandas as pd
import matplotlib.pyplot as plt
from matplotlib.image import imread
import cv2
import random
import os
from os import listdir
from PIL import Image
import tensorflow as tf
from keras.preprocessing import image
from tensorflow. keras.utils import img_to_array, array_to_img
from keras.optimizers import Adam
from keras.models import Sequential
from keras.layers import Conv2D, MaxPooling2D
from keras.layers import Activation, Flatten, Dropout, Dense
from sklearn. model_selection import train_test_split
from keras.models import model_from_json
from keras.utils import to_categorical
print(tf. __version__)
2.12.0
Defining the path of dataset directory
dataset_path = "C:\Plant-Disease-Detection\Dataset"
Visualizing the images and Resize images
# Plotting 12 images to check dataset

plt.figure(figsize = (12, 12))
dataset_path = "C:\Plant-Disease-Detection\Dataset\Potato___Early_blight"

for i in range(1, 17):
    plt.subplot(4, 4, i)
    plt.tight_layout()
    rand_img = imread(dataset_path +'/'+ random.choice(sorted(os.listdir(dataset_path))))
    plt.imshow(rand_img)
    plt.xlabel(rand_img.shape[1], fontsize = 10) # width of image
    plt.ylabel(rand_img.shape[0], fontsize = 10) # height of image

Convert the images into a Numpy array and normalize them
# Converting Images to array 

def convert_image_to_array(image_dir):
    try:
        image = cv2.imread(image_dir)
        if image is not None :
            image = cv2.resize(image, (256, 256))  
            return img_to_array(image)
        else :
            return np.array([])
    except Exception as e:
        print(f"Error : {e}")
        return None
dataset_path = "C:\Plant-Disease-Detection\Dataset"
labels = os.listdir(dataset_path)

print(labels)
['Corn_(maize)___Common_rust_', 'Potato___Early_blight', 'Tomato___Bacterial_spot']
dataset_path = "C:\Plant-Disease-Detection\Dataset"
root_dir = listdir(dataset_path)
image_list, label_list = [], []
all_labels = ['Corn-Common_rust', 'Potato-Early_blight', 'Tomato-Bacterial_spot']
binary_labels = [0, 1, 2]
temp = -1

# Reading and converting image to numpy array

for directory in root_dir:
  plant_image_list = listdir(f"{dataset_path}/{directory}")
  temp += 1
  for files in plant_image_list:
    image_path = f"{dataset_path}/{directory}/{files}"
    image_list.append(convert_image_to_array(image_path))
    label_list.append(binary_labels[temp])
Visualize the class count and Check for class imbalance
# Visualize the number of classes count

label_counts = pd.DataFrame(label_list).value_counts()
label_counts.head()
0    300
1    300
2    300
dtype: int64
# it is a balanced dataset as we can see
# Next we will observe the shape of the image.

image_list[0].shape
(256, 256, 3)
# Checking the total number of the images which is the length of the labels list.

label_list = np.array(label_list)
label_list.shape
(900,)
Splitting the dataset into train, validate and test sets
x_train, x_test, y_train, y_test = train_test_split(image_list, label_list, test_size=0.2, random_state = 10) 
# Now we will normalize the dataset of our images. As pixel values ranges from 0 to 255 so we will divide each image pixel with 255 to normalize the dataset.

x_train = np.array(x_train, dtype=np.float16) / 225.0
x_test = np.array(x_test, dtype=np.float16) / 225.0
x_train = x_train.reshape(-1, 256, 256, 3)
x_test = x_test.reshape(-1, 256, 256, 3)
Performing one-hot encoding on target variable
y_train = to_categorical(y_train)
y_test = to_categorical(y_test)
Creating the model architecture, compile the model and then fit it using the training data
model = Sequential()
model.add(Conv2D(32, (3, 3), padding = "same",input_shape = (256, 256, 3), activation = "relu"))
model.add(MaxPooling2D(pool_size = (3, 3)))
model.add(Conv2D(16, (3, 3), padding = "same", activation = "relu"))
model.add(MaxPooling2D(pool_size = (2, 2)))
model.add(Flatten())
model.add(Dense(8, activation = "relu"))
model.add(Dense(3, activation = "softmax"))
model.summary()
Model: "sequential"
_________________________________________________________________
 Layer (type)                Output Shape              Param #   
=================================================================
 conv2d (Conv2D)             (None, 256, 256, 32)      896       
                                                                 
 max_pooling2d (MaxPooling2D  (None, 85, 85, 32)       0         
 )                                                               
                                                                 
 conv2d_1 (Conv2D)           (None, 85, 85, 16)        4624      
                                                                 
 max_pooling2d_1 (MaxPooling  (None, 42, 42, 16)       0         
 2D)                                                             
                                                                 
 flatten (Flatten)           (None, 28224)             0         
                                                                 
 dense (Dense)               (None, 8)                 225800    
                                                                 
 dense_1 (Dense)             (None, 3)                 27        
                                                                 
=================================================================
Total params: 231,347
Trainable params: 231,347
Non-trainable params: 0
_________________________________________________________________
model.compile(loss = 'categorical_crossentropy', optimizer = Adam(0.0001), metrics = ['accuracy'])
# Splitting the training data set into training and validation data sets

x_train, x_val, y_train, y_val = train_test_split(x_train, y_train, test_size = 0.2, random_state = 10)
# Training the model

epochs = 50
batch_size = 128
history = model.fit(x_train, y_train, batch_size = batch_size, epochs = epochs, validation_data = (x_val, y_val))
Epoch 1/50
5/5 [==============================] - 11s 2s/step - loss: 1.0359 - accuracy: 0.3646 - val_loss: 0.9110 - val_accuracy: 0.4792
Epoch 2/50
5/5 [==============================] - 10s 2s/step - loss: 0.8759 - accuracy: 0.5347 - val_loss: 0.7730 - val_accuracy: 0.6806
Epoch 3/50
5/5 [==============================] - 10s 2s/step - loss: 0.7323 - accuracy: 0.7396 - val_loss: 0.6498 - val_accuracy: 0.8889
Epoch 4/50
5/5 [==============================] - 10s 2s/step - loss: 0.6089 - accuracy: 0.9115 - val_loss: 0.5380 - val_accuracy: 0.9306
Epoch 5/50
5/5 [==============================] - 10s 2s/step - loss: 0.5015 - accuracy: 0.9236 - val_loss: 0.4367 - val_accuracy: 0.9167
Epoch 6/50
5/5 [==============================] - 10s 2s/step - loss: 0.4150 - accuracy: 0.9201 - val_loss: 0.3663 - val_accuracy: 0.9583
Epoch 7/50
5/5 [==============================] - 10s 2s/step - loss: 0.3455 - accuracy: 0.9323 - val_loss: 0.3048 - val_accuracy: 0.9583
Epoch 8/50
5/5 [==============================] - 10s 2s/step - loss: 0.2896 - accuracy: 0.9531 - val_loss: 0.2624 - val_accuracy: 0.9653
Epoch 9/50
5/5 [==============================] - 10s 2s/step - loss: 0.2474 - accuracy: 0.9583 - val_loss: 0.2256 - val_accuracy: 0.9653
Epoch 10/50
5/5 [==============================] - 10s 2s/step - loss: 0.2139 - accuracy: 0.9601 - val_loss: 0.1959 - val_accuracy: 0.9722
Epoch 11/50
5/5 [==============================] - 10s 2s/step - loss: 0.1862 - accuracy: 0.9601 - val_loss: 0.1743 - val_accuracy: 0.9792
Epoch 12/50
5/5 [==============================] - 10s 2s/step - loss: 0.1607 - accuracy: 0.9722 - val_loss: 0.1531 - val_accuracy: 0.9861
Epoch 13/50
5/5 [==============================] - 10s 2s/step - loss: 0.1439 - accuracy: 0.9792 - val_loss: 0.1392 - val_accuracy: 0.9653
Epoch 14/50
5/5 [==============================] - 10s 2s/step - loss: 0.1326 - accuracy: 0.9774 - val_loss: 0.1260 - val_accuracy: 0.9861
Epoch 15/50
5/5 [==============================] - 10s 2s/step - loss: 0.1211 - accuracy: 0.9740 - val_loss: 0.1222 - val_accuracy: 0.9861
Epoch 16/50
5/5 [==============================] - 10s 2s/step - loss: 0.1119 - accuracy: 0.9844 - val_loss: 0.1135 - val_accuracy: 0.9653
Epoch 17/50
5/5 [==============================] - 10s 2s/step - loss: 0.1114 - accuracy: 0.9653 - val_loss: 0.1112 - val_accuracy: 0.9792
Epoch 18/50
5/5 [==============================] - 11s 2s/step - loss: 0.0941 - accuracy: 0.9861 - val_loss: 0.0968 - val_accuracy: 0.9722
Epoch 19/50
5/5 [==============================] - 10s 2s/step - loss: 0.0882 - accuracy: 0.9792 - val_loss: 0.0927 - val_accuracy: 0.9861
Epoch 20/50
5/5 [==============================] - 11s 2s/step - loss: 0.0751 - accuracy: 0.9913 - val_loss: 0.0820 - val_accuracy: 0.9861
Epoch 21/50
5/5 [==============================] - 11s 2s/step - loss: 0.0675 - accuracy: 0.9896 - val_loss: 0.0775 - val_accuracy: 0.9861
Epoch 22/50
5/5 [==============================] - 10s 2s/step - loss: 0.0609 - accuracy: 0.9948 - val_loss: 0.0714 - val_accuracy: 0.9931
Epoch 23/50
5/5 [==============================] - 11s 2s/step - loss: 0.0567 - accuracy: 0.9861 - val_loss: 0.0691 - val_accuracy: 0.9861
Epoch 24/50
5/5 [==============================] - 11s 2s/step - loss: 0.0525 - accuracy: 0.9965 - val_loss: 0.0648 - val_accuracy: 0.9931
Epoch 25/50
5/5 [==============================] - 10s 2s/step - loss: 0.0484 - accuracy: 0.9948 - val_loss: 0.0596 - val_accuracy: 0.9931
Epoch 26/50
5/5 [==============================] - 11s 2s/step - loss: 0.0426 - accuracy: 0.9965 - val_loss: 0.0561 - val_accuracy: 0.9931
Epoch 27/50
5/5 [==============================] - 11s 2s/step - loss: 0.0395 - accuracy: 0.9965 - val_loss: 0.0523 - val_accuracy: 0.9931
Epoch 28/50
5/5 [==============================] - 11s 2s/step - loss: 0.0357 - accuracy: 0.9965 - val_loss: 0.0499 - val_accuracy: 1.0000
Epoch 29/50
5/5 [==============================] - 11s 2s/step - loss: 0.0324 - accuracy: 0.9983 - val_loss: 0.0467 - val_accuracy: 1.0000
Epoch 30/50
5/5 [==============================] - 10s 2s/step - loss: 0.0294 - accuracy: 0.9983 - val_loss: 0.0436 - val_accuracy: 1.0000
Epoch 31/50
5/5 [==============================] - 10s 2s/step - loss: 0.0274 - accuracy: 0.9983 - val_loss: 0.0419 - val_accuracy: 1.0000
Epoch 32/50
5/5 [==============================] - 11s 2s/step - loss: 0.0268 - accuracy: 0.9965 - val_loss: 0.0397 - val_accuracy: 1.0000
Epoch 33/50
5/5 [==============================] - 11s 2s/step - loss: 0.0241 - accuracy: 0.9948 - val_loss: 0.0377 - val_accuracy: 1.0000
Epoch 34/50
5/5 [==============================] - 10s 2s/step - loss: 0.0227 - accuracy: 0.9965 - val_loss: 0.0361 - val_accuracy: 1.0000
Epoch 35/50
5/5 [==============================] - 11s 2s/step - loss: 0.0203 - accuracy: 0.9983 - val_loss: 0.0347 - val_accuracy: 1.0000
Epoch 36/50
5/5 [==============================] - 10s 2s/step - loss: 0.0191 - accuracy: 0.9983 - val_loss: 0.0332 - val_accuracy: 1.0000
Epoch 37/50
5/5 [==============================] - 10s 2s/step - loss: 0.0178 - accuracy: 0.9983 - val_loss: 0.0314 - val_accuracy: 1.0000
Epoch 38/50
5/5 [==============================] - 11s 2s/step - loss: 0.0163 - accuracy: 0.9983 - val_loss: 0.0300 - val_accuracy: 1.0000
Epoch 39/50
5/5 [==============================] - 10s 2s/step - loss: 0.0155 - accuracy: 0.9983 - val_loss: 0.0292 - val_accuracy: 1.0000
Epoch 40/50
5/5 [==============================] - 10s 2s/step - loss: 0.0142 - accuracy: 0.9983 - val_loss: 0.0279 - val_accuracy: 1.0000
Epoch 41/50
5/5 [==============================] - 11s 2s/step - loss: 0.0130 - accuracy: 0.9983 - val_loss: 0.0281 - val_accuracy: 0.9931
Epoch 42/50
5/5 [==============================] - 10s 2s/step - loss: 0.0127 - accuracy: 0.9983 - val_loss: 0.0263 - val_accuracy: 1.0000
Epoch 43/50
5/5 [==============================] - 11s 2s/step - loss: 0.0115 - accuracy: 0.9983 - val_loss: 0.0250 - val_accuracy: 1.0000
Epoch 44/50
5/5 [==============================] - 11s 2s/step - loss: 0.0107 - accuracy: 1.0000 - val_loss: 0.0243 - val_accuracy: 1.0000
Epoch 45/50
5/5 [==============================] - 10s 2s/step - loss: 0.0101 - accuracy: 0.9983 - val_loss: 0.0246 - val_accuracy: 0.9931
Epoch 46/50
5/5 [==============================] - 10s 2s/step - loss: 0.0093 - accuracy: 0.9983 - val_loss: 0.0231 - val_accuracy: 1.0000
Epoch 47/50
5/5 [==============================] - 11s 2s/step - loss: 0.0100 - accuracy: 1.0000 - val_loss: 0.0228 - val_accuracy: 1.0000
Epoch 48/50
5/5 [==============================] - 10s 2s/step - loss: 0.0085 - accuracy: 0.9983 - val_loss: 0.0278 - val_accuracy: 0.9931
Epoch 49/50
5/5 [==============================] - 11s 2s/step - loss: 0.0084 - accuracy: 0.9983 - val_loss: 0.0218 - val_accuracy: 1.0000
Epoch 50/50
5/5 [==============================] - 10s 2s/step - loss: 0.0076 - accuracy: 1.0000 - val_loss: 0.0215 - val_accuracy: 0.9931
model.save("C:\Plant-Disease-Detection\Model\plant_disease_model.h5")
Plot the accuracy and loss against each epoch
# Plot the training history

plt.figure(figsize = (12, 5))
plt.plot(history.history['accuracy'], color = 'r')
plt.plot(history.history['val_accuracy'], color = 'b')
plt.title('Model Accuracy')
plt.ylabel('Accuracy')
plt.xlabel('Epochs')
plt.legend(['train', 'val'])

plt.show()

print("Calculating model accuracy")

scores = model.evaluate(x_test, y_test)
print(f"Test Accuracy: {scores[1] * 100}")
Calculating model accuracy
6/6 [==============================] - 1s 116ms/step - loss: 0.0246 - accuracy: 0.9944
Test Accuracy: 99.44444298744202
Make predictions on testing data
y_pred = model.predict(x_test)
6/6 [==============================] - 1s 106ms/step
Visualizing the original and predicted labels for the test images
# Plotting image to compare

img = array_to_img(x_test[11])
img

# Finding max value from predition list and comaparing original value vs predicted

print("Originally : ", all_labels[np.argmax(y_test[11])])
print("Predicted : ", all_labels[np.argmax(y_pred[4])])
print(y_pred[2])
Originally :  Corn-Common_rust
Predicted :  Corn-Common_rust
[7.9205156e-06 2.2908032e-02 9.7708410e-01]
for i in range(50):
    print (all_labels[np.argmax(y_test[i])], " ", all_labels[np.argmax(y_pred [1])])
Potato-Early_blight   Corn-Common_rust
Corn-Common_rust   Corn-Common_rust
Tomato-Bacterial_spot   Corn-Common_rust
Corn-Common_rust   Corn-Common_rust
Corn-Common_rust   Corn-Common_rust
Tomato-Bacterial_spot   Corn-Common_rust
Corn-Common_rust   Corn-Common_rust
Potato-Early_blight   Corn-Common_rust
Potato-Early_blight   Corn-Common_rust
Potato-Early_blight   Corn-Common_rust
Potato-Early_blight   Corn-Common_rust
Corn-Common_rust   Corn-Common_rust
Tomato-Bacterial_spot   Corn-Common_rust
Tomato-Bacterial_spot   Corn-Common_rust
Corn-Common_rust   Corn-Common_rust
Tomato-Bacterial_spot   Corn-Common_rust
Corn-Common_rust   Corn-Common_rust
Corn-Common_rust   Corn-Common_rust
Tomato-Bacterial_spot   Corn-Common_rust
Tomato-Bacterial_spot   Corn-Common_rust
Tomato-Bacterial_spot   Corn-Common_rust
Corn-Common_rust   Corn-Common_rust
Corn-Common_rust   Corn-Common_rust
Tomato-Bacterial_spot   Corn-Common_rust
Potato-Early_blight   Corn-Common_rust
Tomato-Bacterial_spot   Corn-Common_rust
Tomato-Bacterial_spot   Corn-Common_rust
Potato-Early_blight   Corn-Common_rust
Tomato-Bacterial_spot   Corn-Common_rust
Corn-Common_rust   Corn-Common_rust
Tomato-Bacterial_spot   Corn-Common_rust
Potato-Early_blight   Corn-Common_rust
Potato-Early_blight   Corn-Common_rust
Corn-Common_rust   Corn-Common_rust
Corn-Common_rust   Corn-Common_rust
Potato-Early_blight   Corn-Common_rust
Corn-Common_rust   Corn-Common_rust
Corn-Common_rust   Corn-Common_rust
Corn-Common_rust   Corn-Common_rust
Potato-Early_blight   Corn-Common_rust
Corn-Common_rust   Corn-Common_rust
Potato-Early_blight   Corn-Common_rust
Potato-Early_blight   Corn-Common_rust
Corn-Common_rust   Corn-Common_rust
Tomato-Bacterial_spot   Corn-Common_rust
Potato-Early_blight   Corn-Common_rust
Potato-Early_blight   Corn-Common_rust
Corn-Common_rust   Corn-Common_rust
Tomato-Bacterial_spot   Corn-Common_rust
Corn-Common_rust   Corn-Common_rust
